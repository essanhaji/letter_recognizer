{
 "cells": [
  {
   "cell_type": "markdown",
   "metadata": {},
   "source": [
    "<center><h1>Letters Recognizer Using MNIST Dataset</h1></center>\n",
    "<hr><hr>"
   ]
  },
  {
   "cell_type": "markdown",
   "metadata": {},
   "source": [
    "<br><br><br><br><br>"
   ]
  },
  {
   "cell_type": "markdown",
   "metadata": {},
   "source": [
    "<div class=\"alert alert-block\" style=\"margin-top: 20px\">\n",
    "    <h4>\n",
    "        Released By El Houcine ES SANHAJI \n",
    "    </h4>\n",
    "    Data Science Student\n",
    "</div>"
   ]
  },
  {
   "cell_type": "markdown",
   "metadata": {},
   "source": [
    "## Contents\n",
    "<b>\n",
    "    <ul>\n",
    "        <li>1- Summary</li>\n",
    "        <li>2- MNIST Dataset</li>\n",
    "        <li>3- Letter Recognizer</li>\n",
    "    </ul>\n",
    "</b>\n"
   ]
  },
  {
   "cell_type": "markdown",
   "metadata": {},
   "source": [
    "<br>"
   ]
  },
  {
   "cell_type": "markdown",
   "metadata": {},
   "source": [
    "## 1- Summary"
   ]
  },
  {
   "cell_type": "markdown",
   "metadata": {},
   "source": [
    "In this lab we will use MNIST Letters Dataset for applying the Data Mining technic that we learn in the class such as similarity, distance and correlation methods in the MNIST Dataset.\n",
    "<br>\n",
    "- #### Similatity\n",
    "Jaccard Similarity Score<br>\n",
    "Sorensen Similarity Score<br>\n",
    "- #### Correlation Similarity Score\n",
    "- #### Distance Similarity Score\n"
   ]
  },
  {
   "cell_type": "markdown",
   "metadata": {},
   "source": [
    "<br>"
   ]
  },
  {
   "cell_type": "markdown",
   "metadata": {},
   "source": [
    "## 2- MNIST Dataset"
   ]
  },
  {
   "cell_type": "markdown",
   "metadata": {},
   "source": [
    "This package is a convenience wrapper around the EMNIST Dataset. The package provides functionality to automatically download and cache the dataset, and to load it as numpy arrays, minimizing the boilerplate necessary to make use of the dataset. (NOTE: The author of the Python package is not affiliated in any way with the authors of the dataset and the associated paper.)"
   ]
  },
  {
   "cell_type": "markdown",
   "metadata": {},
   "source": [
    "#### Installation\n",
    "To install the EMNIST Python package along with its dependencies, run the following command :<br>\n",
    "``\n",
    "pip install emnist\n",
    "``\n",
    "\n",
    "The dataset itself is automatically downloaded and cached when needed. To preemptively download the data and avoid a delay later during the execution of your program, execute the following command after installation :<br>\n",
    "``\n",
    "python -c \"import emnist; emnist.ensure_cached_data()\"\n",
    "``\n",
    "\n",
    "Alternately, if you have already downloaded the original IDX-formatted dataset from the EMNIST web page, copy or move it to ```~/.cache/emnist/```, where ```~``` is your home folder, and rename it from ```gzip.zip``` to ```emnist.zip```. The package will use the existing file rather than downloading it again."
   ]
  },
  {
   "cell_type": "markdown",
   "metadata": {},
   "source": [
    "<br>"
   ]
  },
  {
   "cell_type": "markdown",
   "metadata": {},
   "source": [
    "## 3- Letters Recognizer"
   ]
  },
  {
   "cell_type": "markdown",
   "metadata": {},
   "source": [
    "### Importing necessary libraries"
   ]
  },
  {
   "cell_type": "markdown",
   "metadata": {},
   "source": [
    "The file ``requirements.txt`` contain the necessary libraries, so you need just to run this cell below."
   ]
  },
  {
   "cell_type": "code",
   "execution_count": 38,
   "metadata": {},
   "outputs": [],
   "source": [
    "%%capture\n",
    "!pip install -r requirements.txt"
   ]
  },
  {
   "cell_type": "markdown",
   "metadata": {},
   "source": [
    "Importing the necessary libraries such as numpy, pandas and scikit-learn and more."
   ]
  },
  {
   "cell_type": "code",
   "execution_count": 39,
   "metadata": {},
   "outputs": [],
   "source": [
    "import matplotlib.pyplot as plt\n",
    "import numpy as np\n",
    "from emnist import extract_training_samples\n",
    "from emnist import list_datasets\n",
    "from sklearn import datasets\n",
    "from math import ceil, sqrt\n",
    "from PIL import Image"
   ]
  },
  {
   "cell_type": "markdown",
   "metadata": {},
   "source": [
    "This amazing one is to make the plots in line its mean the plots will show in notebook whis ggplot style."
   ]
  },
  {
   "cell_type": "code",
   "execution_count": 40,
   "metadata": {},
   "outputs": [],
   "source": [
    "%matplotlib inline\n",
    "plt.style.use('ggplot')"
   ]
  },
  {
   "cell_type": "markdown",
   "metadata": {},
   "source": [
    "Loading the letters dataset."
   ]
  },
  {
   "cell_type": "code",
   "execution_count": 41,
   "metadata": {},
   "outputs": [],
   "source": [
    "images, labels = extract_training_samples('letters')"
   ]
  },
  {
   "cell_type": "markdown",
   "metadata": {},
   "source": [
    "#### Display list of images"
   ]
  },
  {
   "cell_type": "markdown",
   "metadata": {},
   "source": [
    "This fuction to disply a list of images in one figure"
   ]
  },
  {
   "cell_type": "code",
   "execution_count": 42,
   "metadata": {},
   "outputs": [],
   "source": [
    "def display_list_of_images(image_list):\n",
    "    plt.figure(figsize=(10, 10))\n",
    "    i = 1\n",
    "    for image in image_list:\n",
    "        nbr = ceil(sqrt(len(image_list)))\n",
    "        plt.subplot(nbr, nbr, i)\n",
    "        plt.imshow(image.image_color, plt.cm.binary)  \n",
    "        i += 1\n",
    "    plt.show()"
   ]
  },
  {
   "cell_type": "markdown",
   "metadata": {},
   "source": [
    "#### Jaccard Similarity Score"
   ]
  },
  {
   "cell_type": "code",
   "execution_count": 43,
   "metadata": {},
   "outputs": [],
   "source": [
    "def compute_jaccard_similarity_score(x, y):\n",
    "    \"\"\"\n",
    "        Jaccard Similarity J (A,B) = | Intersection (A,B) | / | Union (A,B) |\n",
    "    \"\"\"\n",
    "    intersection_cardinality = len(set(x).intersection(set(y)))\n",
    "    union_cardinality = len(set(x).union(set(y)))\n",
    "    return intersection_cardinality / float(union_cardinality)"
   ]
  },
  {
   "cell_type": "markdown",
   "metadata": {},
   "source": [
    "#### Sorensen Similarity Score"
   ]
  },
  {
   "cell_type": "code",
   "execution_count": 44,
   "metadata": {},
   "outputs": [],
   "source": [
    "def compute_sorensen_similarity_score(x, y):\n",
    "    \"\"\"\n",
    "        sorensen Similarity J (A,B) = | Intersection (A,B) | / | Union (A,B) |\n",
    "    \"\"\"\n",
    "    intersection_cardinality = len(set(x).intersection(set(y))) * 2\n",
    "    sum_cardinality = len(set(x)) + len(set(y))\n",
    "    return (intersection_cardinality / float(sum_cardinality))"
   ]
  },
  {
   "cell_type": "markdown",
   "metadata": {},
   "source": [
    "#### Correlation Similarity Score"
   ]
  },
  {
   "cell_type": "code",
   "execution_count": 45,
   "metadata": {},
   "outputs": [],
   "source": [
    "def compute_correlation_similarity_score(x, y):\n",
    "    \"\"\"\n",
    "        Correlation Similarity Score\n",
    "    \"\"\"\n",
    "    return np.corrcoef(x, y)[0][1]"
   ]
  },
  {
   "cell_type": "markdown",
   "metadata": {},
   "source": [
    "#### Picture Class"
   ]
  },
  {
   "cell_type": "markdown",
   "metadata": {},
   "source": [
    "This class contains all functions that i need for processing images."
   ]
  },
  {
   "cell_type": "code",
   "execution_count": 46,
   "metadata": {},
   "outputs": [],
   "source": [
    "class Picture:\n",
    "\n",
    "    def __init__(self, id, label, image_color):\n",
    "        self.id = id\n",
    "        self.label = label\n",
    "        self.image_color = image_color\n",
    "        self.image_bw = self.to_black_and_white()\n",
    "        self.vector = self.to_vector()\n",
    "        self.descriptor = self.image_descriptor()\n",
    "        self.temps = 0.0\n",
    "        self.temps_additionnal = 0.0\n",
    "\n",
    "    # image matrix to vector\n",
    "    def to_vector(self):\n",
    "        return np.array(self.image_bw).reshape(-1)\n",
    "\n",
    "    # image color to black and white image\n",
    "    def to_black_and_white(self):\n",
    "        image_b_w = Image.fromarray(self.image_color)\n",
    "        image_converted = image_b_w.convert('L')\n",
    "        return np.array(image_converted)\n",
    "    \n",
    "    # image descriptor\n",
    "    def image_descriptor(self):\n",
    "        array = self.image_bw\n",
    "        horz_proj = [np.count_nonzero(row) for row in array]\n",
    "        img_trans = array.transpose()\n",
    "        ver_proj = [np.count_nonzero(row) for row in img_trans]\n",
    "        return horz_proj + ver_proj\n",
    "\n",
    "    def show(self):\n",
    "        print(\"=>> id\\n{}\".format(self.id))\n",
    "        print(\"=>> label\\n{}\".format(self.label))\n",
    "        print(\"=>> vector shape\\n{}\".format(self.vector.shape))\n",
    "        print(\"=>> descriptor\\n{}\".format(self.descriptor))\n",
    "        print(\"=>> temps\\n{}\".format(self.temps))\n",
    "        print(\"\\n\")\n",
    "\n",
    "    def __eq__(self, other):\n",
    "        return self.temps == other.temps and self.id == other.id\n",
    "\n",
    "    def __lt__(self, other):\n",
    "        return self.temps > other.temps"
   ]
  },
  {
   "cell_type": "markdown",
   "metadata": {},
   "source": [
    "### The main script"
   ]
  },
  {
   "cell_type": "code",
   "execution_count": null,
   "metadata": {},
   "outputs": [],
   "source": [
    "letters_array = np.array([])\n",
    "\n",
    "for i in range(len(images)):\n",
    "    letter = Picture(i, labels[i], images[i])\n",
    "    letters_array = np.append(letters_array, letter)"
   ]
  },
  {
   "cell_type": "markdown",
   "metadata": {},
   "source": [
    "The Letter object looks like."
   ]
  },
  {
   "cell_type": "code",
   "execution_count": null,
   "metadata": {},
   "outputs": [],
   "source": [
    "letters_array[10].show()"
   ]
  },
  {
   "cell_type": "markdown",
   "metadata": {},
   "source": [
    "The image query."
   ]
  },
  {
   "cell_type": "code",
   "execution_count": null,
   "metadata": {},
   "outputs": [],
   "source": [
    "initial_letter = letters_array[10]"
   ]
  },
  {
   "cell_type": "code",
   "execution_count": 50,
   "metadata": {},
   "outputs": [
    {
     "data": {
      "image/png": "[encoded data removed]",
      "text/plain": [
       "<Figure size 720x720 with 1 Axes>"
      ]
     },
     "metadata": {},
     "output_type": "display_data"
    }
   ],
   "source": [
    "display_list_of_images([initial_letter])"
   ]
  },
  {
   "cell_type": "markdown",
   "metadata": {},
   "source": [
    "<br>"
   ]
  },
  {
   "cell_type": "markdown",
   "metadata": {},
   "source": [
    "### Using Descriptor Method"
   ]
  },
  {
   "cell_type": "markdown",
   "metadata": {},
   "source": [
    "You can use the function that you want such as :\n",
    "- For Correlation : ``compute_correlation_similarity_score``\n",
    "- Similarity By Jaccard : ``compute_jaccard_similarity_score``\n",
    "- Similarity By Sorensen : ``compute_sorensen_similarity_score``"
   ]
  },
  {
   "cell_type": "markdown",
   "metadata": {},
   "source": [
    "All those functions applying to Image Vector."
   ]
  },
  {
   "cell_type": "code",
   "execution_count": 51,
   "metadata": {},
   "outputs": [],
   "source": [
    "for letter in letters_array:\n",
    "    letter.temps = compute_correlation_similarity_score(initial_letter.descriptor, letter.descriptor)"
   ]
  },
  {
   "cell_type": "markdown",
   "metadata": {},
   "source": [
    "Sorting the The array to choose the first 10 letters."
   ]
  },
  {
   "cell_type": "code",
   "execution_count": 52,
   "metadata": {},
   "outputs": [
    {
     "name": "stdout",
     "output_type": "stream",
     "text": [
      "<< 10 >>\n"
     ]
    }
   ],
   "source": [
    "print(\"<< {} >>\".format(initial_letter.label))"
   ]
  },
  {
   "cell_type": "markdown",
   "metadata": {},
   "source": [
    "Showing the first 10 Letters."
   ]
  },
  {
   "cell_type": "code",
   "execution_count": 53,
   "metadata": {},
   "outputs": [],
   "source": [
    "letters_array.sort()"
   ]
  },
  {
   "cell_type": "code",
   "execution_count": 54,
   "metadata": {},
   "outputs": [
    {
     "data": {
      "image/png": "[encoded data removed]",
      "text/plain": [
       "<Figure size 720x720 with 12 Axes>"
      ]
     },
     "metadata": {},
     "output_type": "display_data"
    }
   ],
   "source": [
    "display_list_of_images(letters_array[0:12])"
   ]
  },
  {
   "cell_type": "markdown",
   "metadata": {},
   "source": [
    "<br>"
   ]
  },
  {
   "cell_type": "markdown",
   "metadata": {},
   "source": [
    "### Using Pixel to Pixel Method"
   ]
  },
  {
   "cell_type": "markdown",
   "metadata": {},
   "source": [
    "You can use the function that you want such as :\n",
    "- For Correlation : ``compute_correlation_similarity_score``\n",
    "- Similarity By Jaccard : ``compute_jaccard_similarity_score``\n",
    "- Similarity By Sorensen : ``compute_sorensen_similarity_score``"
   ]
  },
  {
   "cell_type": "markdown",
   "metadata": {},
   "source": [
    "All those functions applying to Image Vector."
   ]
  },
  {
   "cell_type": "code",
   "execution_count": 55,
   "metadata": {},
   "outputs": [],
   "source": [
    "for letter in letters_array:\n",
    "    letter.temps = compute_correlation_similarity_score(initial_letter.vector, letter.vector)"
   ]
  },
  {
   "cell_type": "markdown",
   "metadata": {},
   "source": [
    "Sorting the The array to choose the first 10 letters."
   ]
  },
  {
   "cell_type": "code",
   "execution_count": 56,
   "metadata": {},
   "outputs": [],
   "source": [
    "letters_array.sort()"
   ]
  },
  {
   "cell_type": "markdown",
   "metadata": {},
   "source": [
    "Showing the first 10 Letters."
   ]
  },
  {
   "cell_type": "code",
   "execution_count": 57,
   "metadata": {},
   "outputs": [
    {
     "data": {
      "image/png": "[encoded data removed]",
      "text/plain": [
       "<Figure size 720x720 with 12 Axes>"
      ]
     },
     "metadata": {},
     "output_type": "display_data"
    }
   ],
   "source": [
    "display_list_of_images(letters_array[0:12])"
   ]
  },
  {
   "cell_type": "markdown",
   "metadata": {},
   "source": [
    "<div class=\"alert alert-block alert-info\" style=\"margin-top: 20px\">\n",
    "    <b>\n",
    "        According to the above results, the correlation method using pixel by pixel comparison seems to have the best performances.\n",
    "    </b>\n",
    "<br>\n",
    "</div>"
   ]
  },
  {
   "cell_type": "markdown",
   "metadata": {},
   "source": [
    "<div class=\"alert alert-block\" style=\"margin-top: 20px\">\n",
    "    <h4>\n",
    "        Released By El Houcine ES SANHAJI \n",
    "    </h4>\n",
    "    Data Science Student\n",
    "</div>"
   ]
  },
  {
   "cell_type": "markdown",
   "metadata": {},
   "source": [
    "# Thank You."
   ]
  }
 ],
 "metadata": {
  "kernelspec": {
   "display_name": "Python 3",
   "language": "python",
   "name": "python3"
  },
  "language_info": {
   "codemirror_mode": {
    "name": "ipython",
    "version": 3
   },
   "file_extension": ".py",
   "mimetype": "text/x-python",
   "name": "python",
   "nbconvert_exporter": "python",
   "pygments_lexer": "ipython3",
   "version": "3.7.6"
  }
 },
 "nbformat": 4,
 "nbformat_minor": 4
}
